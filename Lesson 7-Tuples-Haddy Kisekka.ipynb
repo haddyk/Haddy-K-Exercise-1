{
 "cells": [
  {
   "cell_type": "markdown",
   "id": "b12d8ed1",
   "metadata": {},
   "source": [
    "Exercises:\n",
    "\n",
    "Reverse the tuple Given:tuple1 = (10, 20, 30, 40, 50) Expected output:(50, 40, 30, 20, 10)\n",
    "Use tuple slicing to reverse the given tuple. Note: the last element starts at -1.\n",
    "\n",
    "Create a tuple with single item 50\n",
    "\n",
    "Counts the number of occurrences of item 50 from a tuple Given: tuple1 = (50, 10, 60, 70, 50) Expected output: 2\n",
    "\n",
    "Use the count() method of a tuple.\n",
    "\n",
    "Check if all items in the tuple are the same tuple1 = (45, 45, 45, 45) Expected output: True"
   ]
  },
  {
   "cell_type": "code",
   "execution_count": 4,
   "id": "bfc0cf22",
   "metadata": {},
   "outputs": [],
   "source": [
    "my_tup = ('l','m','n','o','p','3','8','z','y',\"mokey\")"
   ]
  },
  {
   "cell_type": "code",
   "execution_count": 9,
   "id": "c38d3939",
   "metadata": {},
   "outputs": [
    {
     "name": "stdout",
     "output_type": "stream",
     "text": [
      "('l', 'm', 'n', 'o', 'p', '3', '8', 'z', 'y', 'mokey')\n"
     ]
    }
   ],
   "source": [
    "print(my_tup)"
   ]
  },
  {
   "cell_type": "code",
   "execution_count": 15,
   "id": "a88adac0",
   "metadata": {},
   "outputs": [],
   "source": [
    "tuple1 = ('10','20','30','40','50')"
   ]
  },
  {
   "cell_type": "code",
   "execution_count": 18,
   "id": "627c62ac",
   "metadata": {},
   "outputs": [
    {
     "data": {
      "text/plain": [
       "'50'"
      ]
     },
     "execution_count": 18,
     "metadata": {},
     "output_type": "execute_result"
    }
   ],
   "source": [
    "tuple1[4]"
   ]
  },
  {
   "cell_type": "markdown",
   "id": "144c4d1e",
   "metadata": {},
   "source": [
    "Reversing Tuples"
   ]
  },
  {
   "cell_type": "code",
   "execution_count": 22,
   "id": "54e8f6bf",
   "metadata": {},
   "outputs": [
    {
     "data": {
      "text/plain": [
       "('10', '20', '30', '40', '50')"
      ]
     },
     "execution_count": 22,
     "metadata": {},
     "output_type": "execute_result"
    }
   ],
   "source": [
    "tuple1[:5]"
   ]
  },
  {
   "cell_type": "code",
   "execution_count": 26,
   "id": "40316c21",
   "metadata": {},
   "outputs": [
    {
     "data": {
      "text/plain": [
       "('50', '40', '30', '20', '10')"
      ]
     },
     "execution_count": 26,
     "metadata": {},
     "output_type": "execute_result"
    }
   ],
   "source": [
    "tuple1[::-1]"
   ]
  },
  {
   "cell_type": "markdown",
   "id": "9d959940",
   "metadata": {},
   "source": [
    "Create tuple with single item 50"
   ]
  },
  {
   "cell_type": "code",
   "execution_count": 31,
   "id": "422464d2",
   "metadata": {},
   "outputs": [],
   "source": [
    "tuple2 = (\"50\",)"
   ]
  },
  {
   "cell_type": "code",
   "execution_count": 32,
   "id": "0b42e183",
   "metadata": {},
   "outputs": [
    {
     "name": "stdout",
     "output_type": "stream",
     "text": [
      "('50',)\n"
     ]
    }
   ],
   "source": [
    "print(tuple2)"
   ]
  },
  {
   "cell_type": "markdown",
   "id": "c9f7a71b",
   "metadata": {},
   "source": [
    "Count number of ocurances in a Tuple"
   ]
  },
  {
   "cell_type": "code",
   "execution_count": 33,
   "id": "627ded0c",
   "metadata": {},
   "outputs": [],
   "source": [
    "tuple1 = ('50','10','60','70','50')"
   ]
  },
  {
   "cell_type": "code",
   "execution_count": 36,
   "id": "58cd8a66",
   "metadata": {},
   "outputs": [
    {
     "data": {
      "text/plain": [
       "2"
      ]
     },
     "execution_count": 36,
     "metadata": {},
     "output_type": "execute_result"
    }
   ],
   "source": [
    "tuple1.count('50')"
   ]
  },
  {
   "cell_type": "markdown",
   "id": "7731b215",
   "metadata": {},
   "source": [
    "Check if items in tuple1 are the same"
   ]
  },
  {
   "cell_type": "code",
   "execution_count": null,
   "id": "35ec5cc7",
   "metadata": {},
   "outputs": [],
   "source": [
    "tuple1 = (45,45,45,45)"
   ]
  },
  {
   "cell_type": "code",
   "execution_count": 38,
   "id": "99960081",
   "metadata": {},
   "outputs": [
    {
     "data": {
      "text/plain": [
       "True"
      ]
     },
     "execution_count": 38,
     "metadata": {},
     "output_type": "execute_result"
    }
   ],
   "source": [
    ">>> tuple1 = 45\n",
    "True"
   ]
  },
  {
   "cell_type": "code",
   "execution_count": 40,
   "id": "fc4b0b54",
   "metadata": {},
   "outputs": [
    {
     "data": {
      "text/plain": [
       "False"
      ]
     },
     "execution_count": 40,
     "metadata": {},
     "output_type": "execute_result"
    }
   ],
   "source": [
    ">>> tuple1 > 45"
   ]
  },
  {
   "cell_type": "code",
   "execution_count": 41,
   "id": "673757c7",
   "metadata": {},
   "outputs": [
    {
     "data": {
      "text/plain": [
       "True"
      ]
     },
     "execution_count": 41,
     "metadata": {},
     "output_type": "execute_result"
    }
   ],
   "source": [
    ">>> bool(tuple1)"
   ]
  },
  {
   "cell_type": "code",
   "execution_count": null,
   "id": "f24b4aa7",
   "metadata": {},
   "outputs": [],
   "source": []
  }
 ],
 "metadata": {
  "kernelspec": {
   "display_name": "Python 3 (ipykernel)",
   "language": "python",
   "name": "python3"
  },
  "language_info": {
   "codemirror_mode": {
    "name": "ipython",
    "version": 3
   },
   "file_extension": ".py",
   "mimetype": "text/x-python",
   "name": "python",
   "nbconvert_exporter": "python",
   "pygments_lexer": "ipython3",
   "version": "3.9.12"
  }
 },
 "nbformat": 4,
 "nbformat_minor": 5
}
