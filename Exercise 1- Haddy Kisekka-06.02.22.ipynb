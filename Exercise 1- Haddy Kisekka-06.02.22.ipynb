{
 "cells": [
  {
   "cell_type": "code",
   "execution_count": 1,
   "id": "76d7a6b0",
   "metadata": {},
   "outputs": [
    {
     "name": "stdout",
     "output_type": "stream",
     "text": [
      "4\n"
     ]
    }
   ],
   "source": [
    "#Fill the print function so it prints girls_playing\n",
    "\n",
    "girls_playing = 3\n",
    "\n",
    "girls_playing = girls_playing + 1\n",
    "\n",
    "print(girls_playing)"
   ]
  },
  {
   "cell_type": "code",
   "execution_count": null,
   "id": "3635ca78",
   "metadata": {},
   "outputs": [],
   "source": [
    "#Assign a number to the variable: girls_playing\n",
    "girls_playing = (\"They are\",girls_playing, \"girls playing today.\")\n",
    "\n",
    "print(girls_playing)"
   ]
  },
  {
   "cell_type": "code",
   "execution_count": 2,
   "id": "6ac87d6a",
   "metadata": {},
   "outputs": [
    {
     "name": "stdout",
     "output_type": "stream",
     "text": [
      "True\n"
     ]
    }
   ],
   "source": [
    "#Assign Boolean to the variable below then print it\n",
    "\n",
    "alive=True\n",
    "print(alive)"
   ]
  }
 ],
 "metadata": {
  "kernelspec": {
   "display_name": "Python 3 (ipykernel)",
   "language": "python",
   "name": "python3"
  },
  "language_info": {
   "codemirror_mode": {
    "name": "ipython",
    "version": 3
   },
   "file_extension": ".py",
   "mimetype": "text/x-python",
   "name": "python",
   "nbconvert_exporter": "python",
   "pygments_lexer": "ipython3",
   "version": "3.9.12"
  }
 },
 "nbformat": 4,
 "nbformat_minor": 5
}
