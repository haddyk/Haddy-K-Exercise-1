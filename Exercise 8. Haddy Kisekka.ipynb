{
 "cells": [
  {
   "cell_type": "markdown",
   "id": "8d6db085",
   "metadata": {},
   "source": [
    "Exercises:\n",
    "\n",
    "1.How do you add an element to a set\n",
    "2.How does a set differ from a List\n",
    "3.What is the result of set[1,2,1,4,2,4,1]\n",
    "4.What is the result of Len (set([1,2,1,4,2,4,1]))\n",
    "\n",
    "Given:\n",
    "set1 = {10, 20, 30, 40, 50} set2 = {30, 40, 50, 60, 70}\n",
    "\n",
    "Expected output:{70, 40, 10, 50, 20, 60, 30} Use the union() method of a set.\n",
    "\n",
    "Given:\n",
    "set1 = {10, 20, 30, 40, 50} set2 = {30, 40, 50, 60, 70} Expected output:{20, 70, 10, 60} Use the symmetric_difference() method of a set.\n",
    "\n",
    "Given:\n",
    "set1 = {10, 20, 30, 40, 50} set2 = {30, 40, 50, 60, 70} Expected output:{70, 10, 20, 60} Use the symmetric_difference_update() method of a set.\n",
    "\n",
    "Given:\n",
    "set1 = {10, 20, 30, 40, 50} set2 = {30, 40, 50, 60, 70} Expected output:{40, 50, 30} Use the intersection_update() method of a set.\n",
    "\n",
    " "
   ]
  },
  {
   "cell_type": "code",
   "execution_count": null,
   "id": "dfc013d9",
   "metadata": {},
   "outputs": [],
   "source": [
    "1. We add elements by using the \"key.add\" command\n",
    "2. Set uses braces brackets while a list uses square brackets"
   ]
  },
  {
   "cell_type": "markdown",
   "id": "2c3d3800",
   "metadata": {},
   "source": [
    "3.What is the result of set[1,2,1,4,2,4,1]"
   ]
  },
  {
   "cell_type": "code",
   "execution_count": 1,
   "id": "108ea9bb",
   "metadata": {},
   "outputs": [
    {
     "data": {
      "text/plain": [
       "list"
      ]
     },
     "execution_count": 1,
     "metadata": {},
     "output_type": "execute_result"
    }
   ],
   "source": [
    "set = [1,2,1,4,2,4,1]\n",
    "type(set)"
   ]
  },
  {
   "cell_type": "code",
   "execution_count": 9,
   "id": "de8578d8",
   "metadata": {},
   "outputs": [
    {
     "data": {
      "text/plain": [
       "[1, 2, 1, 4, 2, 4, 1]"
      ]
     },
     "execution_count": 9,
     "metadata": {},
     "output_type": "execute_result"
    }
   ],
   "source": [
    "set "
   ]
  },
  {
   "cell_type": "markdown",
   "id": "3f929be1",
   "metadata": {},
   "source": [
    "4.What is the result of Len (set([1,2,1,4,2,4,1]))"
   ]
  },
  {
   "cell_type": "code",
   "execution_count": 15,
   "id": "088071f8",
   "metadata": {},
   "outputs": [
    {
     "name": "stdout",
     "output_type": "stream",
     "text": [
      "length of tuple : 7\n"
     ]
    }
   ],
   "source": [
    "print('length of tuple :', len(set))"
   ]
  },
  {
   "cell_type": "code",
   "execution_count": 16,
   "id": "bc3e9dc9",
   "metadata": {},
   "outputs": [
    {
     "data": {
      "text/plain": [
       "7"
      ]
     },
     "execution_count": 16,
     "metadata": {},
     "output_type": "execute_result"
    }
   ],
   "source": [
    "len(set)"
   ]
  },
  {
   "cell_type": "markdown",
   "id": "a6bbe675",
   "metadata": {},
   "source": [
    "5. Given: set1 = {10, 20, 30, 40, 50} set2 = {30, 40, 50, 60, 70}\n",
    "\n",
    "Expected output:{70, 40, 10, 50, 20, 60, 30} Use the union() method of a set."
   ]
  },
  {
   "cell_type": "code",
   "execution_count": 21,
   "id": "500d6992",
   "metadata": {},
   "outputs": [
    {
     "name": "stdout",
     "output_type": "stream",
     "text": [
      "{70, 40, 10, 50, 20, 60, 30}\n"
     ]
    }
   ],
   "source": [
    "# set.union()\n",
    "    \n",
    "set1 = {10, 20, 30, 40, 50}\n",
    "set2 = {30, 40, 50, 60, 70} \n",
    "\n",
    "print(set1.union(set2))\n"
   ]
  },
  {
   "cell_type": "markdown",
   "id": "b77bf239",
   "metadata": {},
   "source": [
    "6. Given:\n",
    "set1 = {10, 20, 30, 40, 50} \n",
    "set2 = {30, 40, 50, 60, 70} \n",
    "Expected output:{20, 70, 10, 60} Use the symmetric_difference() method of a set.\n",
    " "
   ]
  },
  {
   "cell_type": "code",
   "execution_count": 25,
   "id": "06d43801",
   "metadata": {},
   "outputs": [
    {
     "name": "stdout",
     "output_type": "stream",
     "text": [
      "{20, 70, 10, 60}\n"
     ]
    }
   ],
   "source": [
    "# set.symmetric_difference()\n",
    "\n",
    "set1 = {10, 20, 30, 40, 50} \n",
    "set2 = {30, 40, 50, 60, 70} \n",
    "\n",
    "print(set1.symmetric_difference(set2))"
   ]
  },
  {
   "cell_type": "markdown",
   "id": "ac38fe95",
   "metadata": {},
   "source": [
    "7. Given:\n",
    "set1 = {10, 20, 30, 40,50} \n",
    "set2 = {30, 40, 50, 60, 70} \n",
    "Expected output:{70, 10, 20, 60} Use the symmetric_difference_update() method of a set."
   ]
  },
  {
   "cell_type": "code",
   "execution_count": 33,
   "id": "4f74271c",
   "metadata": {},
   "outputs": [
    {
     "name": "stdout",
     "output_type": "stream",
     "text": [
      "{20, 70, 10, 60}\n"
     ]
    }
   ],
   "source": [
    "# set.symmetric_difference_update()\n",
    "set1 = {10, 20, 30, 40, 50} \n",
    "set2 = {30, 40, 50, 60, 70} \n",
    "\n",
    "print(set1.symmetric_difference(set2))"
   ]
  },
  {
   "cell_type": "code",
   "execution_count": 35,
   "id": "3c5f33ce",
   "metadata": {},
   "outputs": [
    {
     "name": "stdout",
     "output_type": "stream",
     "text": [
      "None\n"
     ]
    }
   ],
   "source": [
    "print(set1.symmetric_difference_update(set2))"
   ]
  },
  {
   "cell_type": "markdown",
   "id": "55d5baff",
   "metadata": {},
   "source": [
    "8. Given\n",
    "set1 = {10, 20, 30, 40, 50} \n",
    "set2 = {30, 40, 50, 60, 70} \n",
    "Expected output:{40, 50, 30} Use the intersection_update() method of a set. Note: this output is not for the intersection_update as seen below, answers should be none"
   ]
  },
  {
   "cell_type": "code",
   "execution_count": 31,
   "id": "b34c8e03",
   "metadata": {},
   "outputs": [
    {
     "name": "stdout",
     "output_type": "stream",
     "text": [
      "{40, 50, 30}\n"
     ]
    }
   ],
   "source": [
    "#intersection_update()\n",
    "set1 = {10, 20, 30, 40, 50} \n",
    "set2 = {30, 40, 50, 60, 70} \n",
    "\n",
    "print(set1.intersection(set2))\n"
   ]
  },
  {
   "cell_type": "code",
   "execution_count": 36,
   "id": "a2bcf725",
   "metadata": {},
   "outputs": [
    {
     "name": "stdout",
     "output_type": "stream",
     "text": [
      "None\n"
     ]
    }
   ],
   "source": [
    "print(set1.intersection_update(set2))"
   ]
  },
  {
   "cell_type": "code",
   "execution_count": null,
   "id": "8faf0a0c",
   "metadata": {},
   "outputs": [],
   "source": []
  }
 ],
 "metadata": {
  "kernelspec": {
   "display_name": "Python 3 (ipykernel)",
   "language": "python",
   "name": "python3"
  },
  "language_info": {
   "codemirror_mode": {
    "name": "ipython",
    "version": 3
   },
   "file_extension": ".py",
   "mimetype": "text/x-python",
   "name": "python",
   "nbconvert_exporter": "python",
   "pygments_lexer": "ipython3",
   "version": "3.9.12"
  }
 },
 "nbformat": 4,
 "nbformat_minor": 5
}
