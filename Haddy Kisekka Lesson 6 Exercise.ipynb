{
 "cells": [
  {
   "cell_type": "markdown",
   "id": "12b602b8",
   "metadata": {},
   "source": [
    "1.Give me your understatnding of Lists and Dictionaries\n",
    "2.Provide the similarities between lists and dictionaries\n",
    "3.Give the differences between lists and dictionaries\n",
    "\n",
    "Please provide an explanation with examples (lines of code)"
   ]
  },
  {
   "cell_type": "markdown",
   "id": "a1c129a7",
   "metadata": {},
   "source": [
    "1.A list is an array of items. If you were creating a virtual calculator for example, you'd code a list for the different tabs of your calculator. Additionally, you can add, re-arrange, repurpose or re-define your list."
   ]
  },
  {
   "cell_type": "markdown",
   "id": "373940b1",
   "metadata": {},
   "source": [
    "# List"
   ]
  },
  {
   "cell_type": "code",
   "execution_count": 3,
   "id": "86674bc2",
   "metadata": {},
   "outputs": [],
   "source": [
    "animal = [\"lion\",\"tiger\",\"elephant\"]"
   ]
  },
  {
   "cell_type": "code",
   "execution_count": 4,
   "id": "1e066f5c",
   "metadata": {},
   "outputs": [
    {
     "name": "stdout",
     "output_type": "stream",
     "text": [
      "['lion', 'tiger', 'elephant']\n"
     ]
    }
   ],
   "source": [
    "print(animal)"
   ]
  },
  {
   "cell_type": "code",
   "execution_count": 5,
   "id": "e29c73c7",
   "metadata": {},
   "outputs": [
    {
     "data": {
      "text/plain": [
       "3"
      ]
     },
     "execution_count": 5,
     "metadata": {},
     "output_type": "execute_result"
    }
   ],
   "source": [
    "len(animal)"
   ]
  },
  {
   "cell_type": "code",
   "execution_count": 6,
   "id": "888f51db",
   "metadata": {},
   "outputs": [],
   "source": [
    "myorder = [2, 1, 0]"
   ]
  },
  {
   "cell_type": "code",
   "execution_count": 7,
   "id": "bde834ca",
   "metadata": {},
   "outputs": [
    {
     "name": "stdout",
     "output_type": "stream",
     "text": [
      "['lion', 'tiger', 'elephant']\n"
     ]
    }
   ],
   "source": [
    "print(animal)"
   ]
  },
  {
   "cell_type": "code",
   "execution_count": 8,
   "id": "f9150385",
   "metadata": {},
   "outputs": [
    {
     "name": "stdout",
     "output_type": "stream",
     "text": [
      "tiger\n"
     ]
    }
   ],
   "source": [
    "print(animal[1])"
   ]
  },
  {
   "cell_type": "code",
   "execution_count": 34,
   "id": "9d9901dd",
   "metadata": {},
   "outputs": [],
   "source": [
    "animal.append('snake')"
   ]
  },
  {
   "cell_type": "code",
   "execution_count": 35,
   "id": "fdec7c02",
   "metadata": {},
   "outputs": [
    {
     "name": "stdout",
     "output_type": "stream",
     "text": [
      "['lion', 'tiger', 'elephant', 'snake']\n"
     ]
    }
   ],
   "source": [
    "print(animal)"
   ]
  },
  {
   "cell_type": "markdown",
   "id": "91ddd898",
   "metadata": {},
   "source": [
    "2. Dictionaties are points of reference for items. Dictionaries could also be references of items and their relationship to other variables as the case may be for names of kids and their age for example."
   ]
  },
  {
   "cell_type": "markdown",
   "id": "29dbbf7a",
   "metadata": {},
   "source": [
    "#  Dictionaries"
   ]
  },
  {
   "cell_type": "markdown",
   "id": "ede3863d",
   "metadata": {},
   "source": [
    "The code below is inteded to represent kids names and their age"
   ]
  },
  {
   "cell_type": "code",
   "execution_count": 9,
   "id": "058c90f3",
   "metadata": {},
   "outputs": [],
   "source": [
    "d = {\"mike\" : 12, \"james\" : 14 , \"daniel\" : 17}"
   ]
  },
  {
   "cell_type": "code",
   "execution_count": 10,
   "id": "9d2b8c18",
   "metadata": {},
   "outputs": [
    {
     "name": "stdout",
     "output_type": "stream",
     "text": [
      "{'mike': 12, 'james': 14, 'daniel': 17}\n"
     ]
    }
   ],
   "source": [
    "print(d)"
   ]
  },
  {
   "cell_type": "code",
   "execution_count": 11,
   "id": "2d117cd3",
   "metadata": {},
   "outputs": [
    {
     "name": "stdout",
     "output_type": "stream",
     "text": [
      "{'mike': 12, 'james': 14, 'daniel': 17}\n"
     ]
    }
   ],
   "source": [
    "print(d)"
   ]
  },
  {
   "cell_type": "code",
   "execution_count": 12,
   "id": "5958b167",
   "metadata": {},
   "outputs": [],
   "source": [
    "d[\"zion\"] = 1"
   ]
  },
  {
   "cell_type": "code",
   "execution_count": 13,
   "id": "25891919",
   "metadata": {},
   "outputs": [
    {
     "name": "stdout",
     "output_type": "stream",
     "text": [
      "{'mike': 12, 'james': 14, 'daniel': 17, 'zion': 1}\n"
     ]
    }
   ],
   "source": [
    "print(d)"
   ]
  },
  {
   "cell_type": "code",
   "execution_count": 14,
   "id": "761db676",
   "metadata": {},
   "outputs": [
    {
     "name": "stdout",
     "output_type": "stream",
     "text": [
      "14\n"
     ]
    }
   ],
   "source": [
    "print(d[\"james\"])"
   ]
  },
  {
   "cell_type": "markdown",
   "id": "31382172",
   "metadata": {},
   "source": [
    "# Similarities between lists and dictionaries"
   ]
  },
  {
   "cell_type": "code",
   "execution_count": 15,
   "id": "dc686619",
   "metadata": {},
   "outputs": [
    {
     "name": "stdout",
     "output_type": "stream",
     "text": [
      "12\n"
     ]
    }
   ],
   "source": [
    "print(d[\"mike\"])"
   ]
  },
  {
   "cell_type": "code",
   "execution_count": 16,
   "id": "5df566b9",
   "metadata": {},
   "outputs": [
    {
     "data": {
      "text/plain": [
       "{'mike': 12, 'james': 14, 'daniel': 17, 'zion': 1}"
      ]
     },
     "execution_count": 16,
     "metadata": {},
     "output_type": "execute_result"
    }
   ],
   "source": [
    "students = {'mike': 12, 'james': 14, 'daniel': 17, 'zion': 1}\n",
    "\n",
    "students"
   ]
  },
  {
   "cell_type": "code",
   "execution_count": 26,
   "id": "9e90043e",
   "metadata": {},
   "outputs": [],
   "source": [
    "students_ab = [\"mary\", \"anna\", \"velencia\", \"moses\"]"
   ]
  },
  {
   "cell_type": "code",
   "execution_count": 27,
   "id": "97b5e4ac",
   "metadata": {},
   "outputs": [
    {
     "name": "stdout",
     "output_type": "stream",
     "text": [
      "['mary', 'anna', 'velencia', 'moses']\n"
     ]
    }
   ],
   "source": [
    "print(students_ab)"
   ]
  },
  {
   "cell_type": "code",
   "execution_count": 30,
   "id": "fb9d5e27",
   "metadata": {},
   "outputs": [
    {
     "data": {
      "text/plain": [
       "4"
      ]
     },
     "execution_count": 30,
     "metadata": {},
     "output_type": "execute_result"
    }
   ],
   "source": [
    "len(students_ab)"
   ]
  },
  {
   "cell_type": "code",
   "execution_count": 32,
   "id": "5bcde414",
   "metadata": {},
   "outputs": [],
   "source": [
    "students_ab.append('wester')"
   ]
  },
  {
   "cell_type": "code",
   "execution_count": 33,
   "id": "188195ec",
   "metadata": {},
   "outputs": [
    {
     "name": "stdout",
     "output_type": "stream",
     "text": [
      "['mary', 'anna', 'velencia', 'moses', 'wester']\n"
     ]
    }
   ],
   "source": [
    "print(students_ab)"
   ]
  },
  {
   "cell_type": "markdown",
   "id": "b2e83508",
   "metadata": {},
   "source": [
    "1. Both lists and dictionaries can be appended\n",
    "2. Both lists and dictionaries can be redefined at any point in coding/mutable\n",
    "3. Both adhere to counting items using the len command"
   ]
  },
  {
   "cell_type": "markdown",
   "id": "cfb7f6f0",
   "metadata": {},
   "source": [
    "# Differences Between Lists and dictionaries"
   ]
  },
  {
   "cell_type": "code",
   "execution_count": 17,
   "id": "6c972b5d",
   "metadata": {},
   "outputs": [],
   "source": [
    "state = [\"washington\", \"Alaska\", \"Oregon\", \"California\"]"
   ]
  },
  {
   "cell_type": "code",
   "execution_count": 20,
   "id": "a457a341",
   "metadata": {},
   "outputs": [
    {
     "name": "stdout",
     "output_type": "stream",
     "text": [
      "['washington', 'Alaska', 'Oregon', 'California']\n"
     ]
    }
   ],
   "source": [
    "print(state)"
   ]
  },
  {
   "cell_type": "code",
   "execution_count": 46,
   "id": "98e31531",
   "metadata": {},
   "outputs": [
    {
     "name": "stdout",
     "output_type": "stream",
     "text": [
      "Oregon\n"
     ]
    }
   ],
   "source": [
    "print(state[2])"
   ]
  },
  {
   "cell_type": "code",
   "execution_count": 23,
   "id": "738a4316",
   "metadata": {},
   "outputs": [],
   "source": [
    "jeff_has = {'iphone':3, 'samsung':4, 'motorolla':2, 'windows':1}"
   ]
  },
  {
   "cell_type": "code",
   "execution_count": 38,
   "id": "ec3e74b2",
   "metadata": {},
   "outputs": [
    {
     "name": "stdout",
     "output_type": "stream",
     "text": [
      "{'iphone': 3, 'samsung': 4, 'motorolla': 2, 'windows': 1}\n"
     ]
    }
   ],
   "source": [
    "print(jeff_has)"
   ]
  },
  {
   "cell_type": "code",
   "execution_count": 39,
   "id": "698c5b18",
   "metadata": {},
   "outputs": [
    {
     "data": {
      "text/plain": [
       "4"
      ]
     },
     "execution_count": 39,
     "metadata": {},
     "output_type": "execute_result"
    }
   ],
   "source": [
    "len(jeff_has)"
   ]
  },
  {
   "cell_type": "code",
   "execution_count": 40,
   "id": "8542c0e1",
   "metadata": {},
   "outputs": [
    {
     "data": {
      "text/plain": [
       "'California'"
      ]
     },
     "execution_count": 40,
     "metadata": {},
     "output_type": "execute_result"
    }
   ],
   "source": [
    "state.pop()"
   ]
  },
  {
   "cell_type": "code",
   "execution_count": 41,
   "id": "4f3526c4",
   "metadata": {},
   "outputs": [
    {
     "name": "stdout",
     "output_type": "stream",
     "text": [
      "['washington', 'Alaska', 'Oregon']\n"
     ]
    }
   ],
   "source": [
    "print(state)"
   ]
  },
  {
   "cell_type": "code",
   "execution_count": 43,
   "id": "57c578ab",
   "metadata": {},
   "outputs": [],
   "source": [
    "jeff_has = {'iphone':3, 'samsung':4, 'motorolla':2, 'windows':1}"
   ]
  },
  {
   "cell_type": "code",
   "execution_count": 45,
   "id": "6911fafc",
   "metadata": {},
   "outputs": [
    {
     "ename": "KeyError",
     "evalue": "1",
     "output_type": "error",
     "traceback": [
      "\u001b[1;31m---------------------------------------------------------------------------\u001b[0m",
      "\u001b[1;31mKeyError\u001b[0m                                  Traceback (most recent call last)",
      "Input \u001b[1;32mIn [45]\u001b[0m, in \u001b[0;36m<cell line: 1>\u001b[1;34m()\u001b[0m\n\u001b[1;32m----> 1\u001b[0m \u001b[38;5;28mprint\u001b[39m(\u001b[43mjeff_has\u001b[49m\u001b[43m[\u001b[49m\u001b[38;5;241;43m1\u001b[39;49m\u001b[43m]\u001b[49m)\n",
      "\u001b[1;31mKeyError\u001b[0m: 1"
     ]
    }
   ],
   "source": [
    "print(jeff_has[1])"
   ]
  },
  {
   "cell_type": "markdown",
   "id": "f8252b52",
   "metadata": {},
   "source": [
    "1.A list is an array of items while a dictionary a list of representative pairs of items\n",
    "2.A list is created by use of square brackets [] while a dictionary is created using braces {}\n",
    "3.From the example above, lists adhere to indexing but dictionaries do not"
   ]
  }
 ],
 "metadata": {
  "kernelspec": {
   "display_name": "Python 3 (ipykernel)",
   "language": "python",
   "name": "python3"
  },
  "language_info": {
   "codemirror_mode": {
    "name": "ipython",
    "version": 3
   },
   "file_extension": ".py",
   "mimetype": "text/x-python",
   "name": "python",
   "nbconvert_exporter": "python",
   "pygments_lexer": "ipython3",
   "version": "3.9.12"
  }
 },
 "nbformat": 4,
 "nbformat_minor": 5
}
