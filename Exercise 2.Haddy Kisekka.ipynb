{
 "cells": [
  {
   "cell_type": "markdown",
   "id": "f6a7c37a",
   "metadata": {},
   "source": [
    "Exercise:\n",
    "Print the name of your school in anaconda\n",
    "Print three words let each word be on its own line\n",
    "Use len to give me the size of the word ‘anaconda’"
   ]
  },
  {
   "cell_type": "markdown",
   "id": "40ed8d82",
   "metadata": {},
   "source": [
    "1.Print the name of your school in anaconda"
   ]
  },
  {
   "cell_type": "code",
   "execution_count": 5,
   "id": "56f9b0da",
   "metadata": {},
   "outputs": [
    {
     "name": "stdout",
     "output_type": "stream",
     "text": [
      "washington\n"
     ]
    }
   ],
   "source": [
    "name = 'washington'\n",
    "\n",
    "print(name)\n"
   ]
  },
  {
   "cell_type": "code",
   "execution_count": 17,
   "id": "d419402d",
   "metadata": {},
   "outputs": [
    {
     "name": "stdout",
     "output_type": "stream",
     "text": [
      "washington\n",
      "california\n",
      "Florida\n"
     ]
    }
   ],
   "source": [
    "print(\"washington\")\n",
    "print(\"california\")\n",
    "print(\"Florida\")"
   ]
  },
  {
   "cell_type": "code",
   "execution_count": 19,
   "id": "245592d6",
   "metadata": {},
   "outputs": [
    {
     "name": "stdout",
     "output_type": "stream",
     "text": [
      "anaconda\n"
     ]
    }
   ],
   "source": [
    "name = 'anaconda'\n",
    "print(name)"
   ]
  },
  {
   "cell_type": "code",
   "execution_count": 21,
   "id": "6bf37311",
   "metadata": {},
   "outputs": [
    {
     "name": "stdout",
     "output_type": "stream",
     "text": [
      "8\n"
     ]
    }
   ],
   "source": [
    "print(len(name))"
   ]
  },
  {
   "cell_type": "code",
   "execution_count": null,
   "id": "78c8df16",
   "metadata": {},
   "outputs": [],
   "source": []
  }
 ],
 "metadata": {
  "kernelspec": {
   "display_name": "Python 3 (ipykernel)",
   "language": "python",
   "name": "python3"
  },
  "language_info": {
   "codemirror_mode": {
    "name": "ipython",
    "version": 3
   },
   "file_extension": ".py",
   "mimetype": "text/x-python",
   "name": "python",
   "nbconvert_exporter": "python",
   "pygments_lexer": "ipython3",
   "version": "3.9.12"
  }
 },
 "nbformat": 4,
 "nbformat_minor": 5
}
